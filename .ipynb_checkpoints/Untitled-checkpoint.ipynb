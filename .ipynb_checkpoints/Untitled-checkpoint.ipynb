{
 "cells": [
  {
   "cell_type": "code",
   "execution_count": 2,
   "metadata": {},
   "outputs": [],
   "source": [
    "import keras"
   ]
  },
  {
   "cell_type": "code",
   "execution_count": 3,
   "metadata": {
    "scrolled": true
   },
   "outputs": [
    {
     "name": "stdout",
     "output_type": "stream",
     "text": [
      "WARNING:tensorflow:From C:\\Users\\vaibh\\anaconda3\\lib\\site-packages\\keras\\backend\\tensorflow_backend.py:4070: The name tf.nn.max_pool is deprecated. Please use tf.nn.max_pool2d instead.\n",
      "\n",
      "WARNING:tensorflow:From C:\\Users\\vaibh\\anaconda3\\lib\\site-packages\\tensorflow\\python\\ops\\nn_impl.py:180: add_dispatch_support.<locals>.wrapper (from tensorflow.python.ops.array_ops) is deprecated and will be removed in a future version.\n",
      "Instructions for updating:\n",
      "Use tf.where in 2.0, which has the same broadcast rule as np.where\n"
     ]
    },
    {
     "name": "stderr",
     "output_type": "stream",
     "text": [
      "C:\\Users\\vaibh\\anaconda3\\lib\\site-packages\\ipykernel_launcher.py:28: UserWarning: Update your `Conv2D` call to the Keras 2 API: `Conv2D(32, (3, 3), input_shape=(64, 64, 3..., activation=\"relu\")`\n",
      "C:\\Users\\vaibh\\anaconda3\\lib\\site-packages\\ipykernel_launcher.py:34: UserWarning: Update your `Conv2D` call to the Keras 2 API: `Conv2D(32, (3, 3), activation=\"relu\")`\n",
      "C:\\Users\\vaibh\\anaconda3\\lib\\site-packages\\ipykernel_launcher.py:41: UserWarning: Update your `Dense` call to the Keras 2 API: `Dense(activation=\"relu\", units=128)`\n",
      "C:\\Users\\vaibh\\anaconda3\\lib\\site-packages\\ipykernel_launcher.py:42: UserWarning: Update your `Dense` call to the Keras 2 API: `Dense(activation=\"sigmoid\", units=1)`\n"
     ]
    },
    {
     "name": "stdout",
     "output_type": "stream",
     "text": [
      "Found 8000 images belonging to 2 classes.\n",
      "Found 2000 images belonging to 2 classes.\n"
     ]
    },
    {
     "name": "stderr",
     "output_type": "stream",
     "text": [
      "C:\\Users\\vaibh\\anaconda3\\lib\\site-packages\\ipykernel_launcher.py:71: UserWarning: The semantics of the Keras 2 argument `steps_per_epoch` is not the same as the Keras 1 argument `samples_per_epoch`. `steps_per_epoch` is the number of batches to draw from the generator at each epoch. Basically steps_per_epoch = samples_per_epoch/batch_size. Similarly `nb_val_samples`->`validation_steps` and `val_samples`->`steps` arguments have changed. Update your method calls accordingly.\n",
      "C:\\Users\\vaibh\\anaconda3\\lib\\site-packages\\ipykernel_launcher.py:71: UserWarning: Update your `fit_generator` call to the Keras 2 API: `fit_generator(<keras.pre..., validation_data=<keras.pre..., steps_per_epoch=250, epochs=25, validation_steps=2000)`\n"
     ]
    },
    {
     "name": "stdout",
     "output_type": "stream",
     "text": [
      "WARNING:tensorflow:From C:\\Users\\vaibh\\anaconda3\\lib\\site-packages\\keras\\backend\\tensorflow_backend.py:422: The name tf.global_variables is deprecated. Please use tf.compat.v1.global_variables instead.\n",
      "\n",
      "Epoch 1/25\n",
      "250/250 [==============================] - 324s 1s/step - loss: 0.6798 - accuracy: 0.5784 - val_loss: 0.6784 - val_accuracy: 0.6561\n",
      "Epoch 2/25\n",
      "250/250 [==============================] - 144s 575ms/step - loss: 0.6252 - accuracy: 0.6547 - val_loss: 0.5784 - val_accuracy: 0.7209\n",
      "Epoch 3/25\n",
      "250/250 [==============================] - 143s 573ms/step - loss: 0.5730 - accuracy: 0.6991 - val_loss: 0.7553 - val_accuracy: 0.7386\n",
      "Epoch 4/25\n",
      "250/250 [==============================] - 147s 588ms/step - loss: 0.5350 - accuracy: 0.7291 - val_loss: 0.4686 - val_accuracy: 0.7381\n",
      "Epoch 5/25\n",
      "250/250 [==============================] - 152s 609ms/step - loss: 0.5064 - accuracy: 0.7495 - val_loss: 0.4466 - val_accuracy: 0.7536\n",
      "Epoch 6/25\n",
      "250/250 [==============================] - 144s 578ms/step - loss: 0.4893 - accuracy: 0.7661 - val_loss: 0.4639 - val_accuracy: 0.7548\n",
      "Epoch 7/25\n",
      "250/250 [==============================] - 140s 561ms/step - loss: 0.4726 - accuracy: 0.7705 - val_loss: 0.4441 - val_accuracy: 0.7676\n",
      "Epoch 8/25\n",
      "250/250 [==============================] - 146s 582ms/step - loss: 0.4570 - accuracy: 0.7789 - val_loss: 0.7158 - val_accuracy: 0.7834\n",
      "Epoch 9/25\n",
      "250/250 [==============================] - 145s 578ms/step - loss: 0.4439 - accuracy: 0.7871 - val_loss: 0.4945 - val_accuracy: 0.7820\n",
      "Epoch 10/25\n",
      "250/250 [==============================] - 144s 574ms/step - loss: 0.4286 - accuracy: 0.7993 - val_loss: 0.4631 - val_accuracy: 0.7629\n",
      "Epoch 11/25\n",
      "250/250 [==============================] - 145s 579ms/step - loss: 0.4150 - accuracy: 0.8116 - val_loss: 0.5168 - val_accuracy: 0.7643\n",
      "Epoch 12/25\n",
      "250/250 [==============================] - 145s 580ms/step - loss: 0.4007 - accuracy: 0.8136 - val_loss: 0.3558 - val_accuracy: 0.7745\n",
      "Epoch 13/25\n",
      "250/250 [==============================] - 144s 578ms/step - loss: 0.3901 - accuracy: 0.8230 - val_loss: 0.3601 - val_accuracy: 0.7896\n",
      "Epoch 14/25\n",
      "250/250 [==============================] - 144s 575ms/step - loss: 0.3763 - accuracy: 0.8266 - val_loss: 0.4054 - val_accuracy: 0.7956\n",
      "Epoch 15/25\n",
      "250/250 [==============================] - 144s 578ms/step - loss: 0.3630 - accuracy: 0.8386 - val_loss: 0.4189 - val_accuracy: 0.7985\n",
      "Epoch 16/25\n",
      "250/250 [==============================] - 141s 565ms/step - loss: 0.3526 - accuracy: 0.8482 - val_loss: 0.3028 - val_accuracy: 0.7955\n",
      "Epoch 17/25\n",
      "250/250 [==============================] - 141s 565ms/step - loss: 0.3354 - accuracy: 0.8491 - val_loss: 0.3954 - val_accuracy: 0.8026\n",
      "Epoch 18/25\n",
      "250/250 [==============================] - 151s 603ms/step - loss: 0.3269 - accuracy: 0.8560 - val_loss: 0.5015 - val_accuracy: 0.7851\n",
      "Epoch 19/25\n",
      "250/250 [==============================] - 146s 582ms/step - loss: 0.3180 - accuracy: 0.8624 - val_loss: 0.4005 - val_accuracy: 0.7938\n",
      "Epoch 20/25\n",
      "250/250 [==============================] - 146s 582ms/step - loss: 0.3038 - accuracy: 0.8710 - val_loss: 0.2959 - val_accuracy: 0.7901\n",
      "Epoch 21/25\n",
      "250/250 [==============================] - 145s 580ms/step - loss: 0.2953 - accuracy: 0.8720 - val_loss: 0.6493 - val_accuracy: 0.7946\n",
      "Epoch 22/25\n",
      "250/250 [==============================] - 149s 597ms/step - loss: 0.2722 - accuracy: 0.8813 - val_loss: 0.3931 - val_accuracy: 0.7921\n",
      "Epoch 23/25\n",
      "250/250 [==============================] - 142s 569ms/step - loss: 0.2620 - accuracy: 0.8894 - val_loss: 0.5053 - val_accuracy: 0.8050\n",
      "Epoch 24/25\n",
      "250/250 [==============================] - 141s 565ms/step - loss: 0.2435 - accuracy: 0.8997 - val_loss: 0.5747 - val_accuracy: 0.8026\n",
      "Epoch 25/25\n",
      "250/250 [==============================] - 143s 573ms/step - loss: 0.2366 - accuracy: 0.9019 - val_loss: 0.3122 - val_accuracy: 0.8093\n"
     ]
    }
   ],
   "source": [
    "import os\n",
    "os.chdir('D:\\\\Machine Learning A-Z™ Hands-On Python & R In Data Science\\\\Machine Learning A-Z Template Folder\\\\Part 8 - Deep Learning\\Section 40 - Convolutional Neural Networks (CNN)\\\\Convolutional_Neural_Networks')\n",
    "\n",
    "# COVOLUTIONAL NEURAL NETWORK\n",
    "\n",
    "# Installing Theano\n",
    "# pip install --upgrade --no-deps git+git://github.com/Theano/Theano.git\n",
    "\n",
    "# Installing Tensorflow\n",
    "# Install Tensorflow from the website: https://www.tensorflow.org/versions/r0.12/get_started/os_setup.html\n",
    "\n",
    "# Installing Keras\n",
    "# pip install --upgrade keras\n",
    "\n",
    "# Part 1 - Building the CNN\n",
    "\n",
    "# Importing the Keras libraries and packages\n",
    "from keras.models import Sequential\n",
    "from keras.layers import Convolution2D\n",
    "from keras.layers import MaxPooling2D\n",
    "from keras.layers import Flatten\n",
    "from keras.layers import Dense\n",
    "\n",
    "# Initialising the CNN\n",
    "classifier = Sequential()\n",
    "\n",
    "# Step 1 - Convolution\n",
    "classifier.add(Convolution2D(32, 3, 3, input_shape = (64, 64, 3), activation = \"relu\"))\n",
    "\n",
    "# Step 2 - Pooling\n",
    "classifier.add(MaxPooling2D(pool_size = (2, 2)))\n",
    "\n",
    "# Adding another convolution layer\n",
    "classifier.add(Convolution2D(32, 3, 3, activation = \"relu\"))\n",
    "classifier.add(MaxPooling2D(pool_size = (2, 2)))\n",
    "\n",
    "# Step 3 - Flattening\n",
    "classifier.add(Flatten())\n",
    "\n",
    "# Step 3 - Full Connection\n",
    "classifier.add(Dense(output_dim = 128, activation = 'relu'))\n",
    "classifier.add(Dense(output_dim = 1, activation = 'sigmoid'))\n",
    "\n",
    "# Compiling the CNN\n",
    "classifier.compile(optimizer = \"adam\", loss = \"binary_crossentropy\", metrics = [\"accuracy\"])\n",
    "\n",
    "# Part 2 - Fitting the CNN to the images\n",
    "from keras.preprocessing.image import ImageDataGenerator\n",
    "train_datagen = ImageDataGenerator(\n",
    "        rescale=1./255,\n",
    "        shear_range=0.2,\n",
    "        zoom_range=0.2,\n",
    "        horizontal_flip=True)\n",
    "\n",
    "test_datagen = ImageDataGenerator(rescale=1./255)\n",
    "\n",
    "training_set = train_datagen.flow_from_directory('dataset/training_set',\n",
    "                                                  target_size=(64, 64),\n",
    "                                                  batch_size=32,\n",
    "                                                  class_mode='binary')\n",
    "\n",
    "test_set = test_datagen.flow_from_directory('dataset/test_set',\n",
    "                                             target_size=(64, 64),\n",
    "                                             batch_size=32,\n",
    "                                             class_mode='binary')\n",
    "\n",
    "classifier.fit_generator(training_set,\n",
    "                         samples_per_epoch=8000,\n",
    "                         nb_epoch=25,\n",
    "                         validation_data=test_set,\n",
    "                         nb_val_samples=2000)\n",
    "\n",
    "\n",
    "classifier.save('model.h5')"
   ]
  },
  {
   "cell_type": "code",
   "execution_count": 21,
   "metadata": {},
   "outputs": [
    {
     "name": "stdout",
     "output_type": "stream",
     "text": [
      "['dog']\n"
     ]
    }
   ],
   "source": [
    "import os\n",
    "os.chdir('D:\\\\Machine Learning A-Z™ Hands-On Python & R In Data Science\\\\Machine Learning A-Z Template Folder\\\\Part 8 - Deep Learning\\Section 40 - Convolutional Neural Networks (CNN)\\\\Convolutional_Neural_Networks')\n",
    "\n",
    "# Predicting the classes (result)\n",
    "\n",
    "from keras.models import load_model\n",
    "import cv2\n",
    "import numpy as np\n",
    "\n",
    "classifier = load_model('model.h5')\n",
    "\n",
    "classifier.compile(loss='binary_crossentropy',\n",
    "              optimizer='rmsprop',\n",
    "              metrics=['accuracy'])\n",
    "\n",
    "img = cv2.imread('dog.4025.jpg')\n",
    "img = cv2.resize(img,(64,64))\n",
    "img = np.reshape(img,[1,64,64,3])\n",
    "\n",
    "def result():\n",
    "    classes = classifier.predict_classes(img)\n",
    "    if(classes[0] == 0):\n",
    "        classes = classes.astype(str)\n",
    "        classes[0] = \"cat\"\n",
    "    else:\n",
    "        classes = classes.astype(str)\n",
    "        classes[0] = \"dog\"\n",
    "    print(classes[0])\n",
    "result()"
   ]
  },
  {
   "cell_type": "code",
   "execution_count": null,
   "metadata": {},
   "outputs": [],
   "source": []
  }
 ],
 "metadata": {
  "kernelspec": {
   "display_name": "Python 3",
   "language": "python",
   "name": "python3"
  },
  "language_info": {
   "codemirror_mode": {
    "name": "ipython",
    "version": 3
   },
   "file_extension": ".py",
   "mimetype": "text/x-python",
   "name": "python",
   "nbconvert_exporter": "python",
   "pygments_lexer": "ipython3",
   "version": "3.7.6"
  }
 },
 "nbformat": 4,
 "nbformat_minor": 4
}
